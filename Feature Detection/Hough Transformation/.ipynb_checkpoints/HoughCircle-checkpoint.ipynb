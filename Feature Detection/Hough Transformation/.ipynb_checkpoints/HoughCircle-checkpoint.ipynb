{
 "cells": [
  {
   "cell_type": "code",
   "execution_count": 114,
   "id": "1771dbf3",
   "metadata": {},
   "outputs": [],
   "source": [
    "import cv2\n",
    "import numpy as np\n",
    "image = cv2.imread('pipe2.jpg')\n",
    "grayscale = cv2.cvtColor(image, cv2.COLOR_BGR2GRAY)\n",
    "blurred = cv2.GaussianBlur(grayscale, (9, 9), 2)\n"
   ]
  },
  {
   "cell_type": "markdown",
   "id": "6762684f",
   "metadata": {},
   "source": [
    "minDist: minumum distance between each circles\n",
    "minRadius\n",
    "maxRadius\n"
   ]
  },
  {
   "cell_type": "code",
   "execution_count": 119,
   "id": "5d44a3d1",
   "metadata": {},
   "outputs": [],
   "source": [
    "circles = cv2.HoughCircles(blurred, cv2.HOUGH_GRADIENT, \n",
    "                           dp=1, minDist=17, \n",
    "                           param1=190, param2=30, \n",
    "                           minRadius=10, maxRadius=50)"
   ]
  },
  {
   "cell_type": "code",
   "execution_count": 120,
   "id": "921360ae",
   "metadata": {},
   "outputs": [
    {
     "name": "stdout",
     "output_type": "stream",
     "text": [
      "Number of detected pipes: 94\n"
     ]
    }
   ],
   "source": [
    "if circles is not None:\n",
    "    circles = np.uint16(np.around(circles))\n",
    "    for circle in circles[0, :]:\n",
    "        center = (circle[0], circle[1])  # center coordinate\n",
    "        radius = circle[2]\n",
    "        cv2.circle(image, center, radius, (255, 0, 255), 3)  # draw the circle\n",
    "\n",
    "    cv2.imshow('Detected Pipes', image)\n",
    "    cv2.waitKey(0)\n",
    "    cv2.destroyAllWindows()\n",
    "\n",
    "number_of_pipes = circles.shape[1]\n",
    "print(f\"Number of detected pipes: {number_of_pipes}\")"
   ]
  },
  {
   "cell_type": "code",
   "execution_count": null,
   "id": "b7fe8342",
   "metadata": {},
   "outputs": [],
   "source": []
  },
  {
   "cell_type": "code",
   "execution_count": null,
   "id": "f175cfca",
   "metadata": {},
   "outputs": [],
   "source": []
  }
 ],
 "metadata": {
  "kernelspec": {
   "display_name": "Python 3 (ipykernel)",
   "language": "python",
   "name": "python3"
  },
  "language_info": {
   "codemirror_mode": {
    "name": "ipython",
    "version": 3
   },
   "file_extension": ".py",
   "mimetype": "text/x-python",
   "name": "python",
   "nbconvert_exporter": "python",
   "pygments_lexer": "ipython3",
   "version": "3.11.3"
  }
 },
 "nbformat": 4,
 "nbformat_minor": 5
}
