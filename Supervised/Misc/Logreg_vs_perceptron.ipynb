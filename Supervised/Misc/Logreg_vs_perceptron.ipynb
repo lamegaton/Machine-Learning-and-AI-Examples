{
 "cells": [
  {
   "cell_type": "markdown",
   "id": "5b4ec5b3",
   "metadata": {},
   "source": [
    "# Example of comparing Logistic Regression and Perceptron"
   ]
  },
  {
   "cell_type": "code",
   "execution_count": 3,
   "id": "42ec23aa-303b-4c2e-a1ed-e6ec693ebfe4",
   "metadata": {},
   "outputs": [
    {
     "name": "stdout",
     "output_type": "stream",
     "text": [
      "Logistic Regression Accuracy: 0.88\n",
      "Perceptron Accuracy: 0.865\n"
     ]
    }
   ],
   "source": [
    "import numpy as np\n",
    "from sklearn.datasets import make_classification\n",
    "from sklearn.model_selection import train_test_split\n",
    "from sklearn.linear_model import LogisticRegression\n",
    "from sklearn.linear_model import Perceptron\n",
    "from sklearn.metrics import accuracy_score\n",
    "\n",
    "# Generate a synthetic dataset\n",
    "X, y = make_classification(n_samples=1000, n_features=2, n_informative=2, n_redundant=0, random_state=42)\n",
    "\n",
    "# Split the dataset into training and testing sets\n",
    "X_train, X_test, y_train, y_test = train_test_split(X, y, test_size=0.2, random_state=42)\n",
    "\n",
    "# Train a logistic regression model\n",
    "logreg_model = LogisticRegression()\n",
    "logreg_model.fit(X_train, y_train)\n",
    "\n",
    "# Train a perceptron model\n",
    "perceptron_model = Perceptron()\n",
    "perceptron_model.fit(X_train, y_train)\n",
    "\n",
    "# Make predictions on the test set\n",
    "logreg_predictions = logreg_model.predict(X_test)\n",
    "perceptron_predictions = perceptron_model.predict(X_test)\n",
    "\n",
    "# Calculate accuracy for each model\n",
    "logreg_accuracy = accuracy_score(y_test, logreg_predictions)\n",
    "perceptron_accuracy = accuracy_score(y_test, perceptron_predictions)\n",
    "\n",
    "print(\"Logistic Regression Accuracy:\", logreg_accuracy)\n",
    "print(\"Perceptron Accuracy:\", perceptron_accuracy)\n"
   ]
  }
 ],
 "metadata": {
  "kernelspec": {
   "display_name": "Python 3 (ipykernel)",
   "language": "python",
   "name": "python3"
  },
  "language_info": {
   "codemirror_mode": {
    "name": "ipython",
    "version": 3
   },
   "file_extension": ".py",
   "mimetype": "text/x-python",
   "name": "python",
   "nbconvert_exporter": "python",
   "pygments_lexer": "ipython3",
   "version": "3.11.3"
  }
 },
 "nbformat": 4,
 "nbformat_minor": 5
}
