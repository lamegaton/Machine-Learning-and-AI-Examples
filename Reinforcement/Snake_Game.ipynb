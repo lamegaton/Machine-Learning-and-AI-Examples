{
 "cells": [
  {
   "cell_type": "markdown",
   "id": "0142c771-4678-49de-b50a-1cf56dca45a1",
   "metadata": {},
   "source": [
    "TODO: APPLY DQN TO AUTOMATE SNAKE GAME"
   ]
  },
  {
   "cell_type": "code",
   "execution_count": 3,
   "id": "1ffba588-53ec-4513-ab7d-7a40f8ea8433",
   "metadata": {},
   "outputs": [
    {
     "name": "stdout",
     "output_type": "stream",
     "text": [
      "Requirement already satisfied: pygame in c:\\users\\sonph\\appdata\\local\\programs\\python\\python311\\lib\\site-packages (2.5.0)\n"
     ]
    }
   ],
   "source": [
    "!pip install pygame"
   ]
  },
  {
   "cell_type": "code",
   "execution_count": 4,
   "id": "65133c24-56b6-481a-86ed-d395847f6754",
   "metadata": {},
   "outputs": [
    {
     "name": "stdout",
     "output_type": "stream",
     "text": [
      "pygame 2.5.0 (SDL 2.28.0, Python 3.11.3)\n",
      "Hello from the pygame community. https://www.pygame.org/contribute.html\n"
     ]
    },
    {
     "ename": "error",
     "evalue": "video system not initialized",
     "output_type": "error",
     "traceback": [
      "\u001b[1;31m---------------------------------------------------------------------------\u001b[0m",
      "\u001b[1;31merror\u001b[0m                                     Traceback (most recent call last)",
      "Cell \u001b[1;32mIn[4], line 53\u001b[0m\n\u001b[0;32m     50\u001b[0m     quit()\n\u001b[0;32m     52\u001b[0m \u001b[38;5;66;03m# Arrow keys for direction change\u001b[39;00m\n\u001b[1;32m---> 53\u001b[0m keys \u001b[38;5;241m=\u001b[39m \u001b[43mpygame\u001b[49m\u001b[38;5;241;43m.\u001b[39;49m\u001b[43mkey\u001b[49m\u001b[38;5;241;43m.\u001b[39;49m\u001b[43mget_pressed\u001b[49m\u001b[43m(\u001b[49m\u001b[43m)\u001b[49m\n\u001b[0;32m     54\u001b[0m \u001b[38;5;28;01mfor\u001b[39;00m key \u001b[38;5;129;01min\u001b[39;00m keys:\n\u001b[0;32m     55\u001b[0m     \u001b[38;5;28;01mif\u001b[39;00m keys[pygame\u001b[38;5;241m.\u001b[39mK_UP]:\n",
      "\u001b[1;31merror\u001b[0m: video system not initialized"
     ]
    }
   ],
   "source": [
    "import pygame\n",
    "import random\n",
    "\n",
    "# Initialize Pygame\n",
    "pygame.init()\n",
    "\n",
    "# Set up game variables\n",
    "width, height = 400, 400\n",
    "screen = pygame.display.set_mode((width, height))\n",
    "clock = pygame.time.Clock()\n",
    "\n",
    "# Snake attributes\n",
    "snake_pos = [100, 50]\n",
    "snake_body = [[100, 50], [90, 50], [80, 50]]\n",
    "direction = \"RIGHT\"\n",
    "change_to = direction\n",
    "\n",
    "# Food attributes\n",
    "food_pos = [random.randrange(1, (width//10)) * 10,\n",
    "            random.randrange(1, (height//10)) * 10]\n",
    "food_spawn = True\n",
    "\n",
    "# Score\n",
    "score = 0\n",
    "\n",
    "# Colors\n",
    "white = (255, 255, 255)\n",
    "black = (0, 0, 0)\n",
    "red = (255, 0, 0)\n",
    "green = (0, 255, 0)\n",
    "blue = (0, 0, 255)\n",
    "\n",
    "# Initialize the game\n",
    "def init_game():\n",
    "    global snake_pos, snake_body, food_pos, food_spawn, score\n",
    "    snake_pos = [100, 50]\n",
    "    snake_body = [[100, 50], [90, 50], [80, 50]]\n",
    "    direction = \"RIGHT\"\n",
    "    change_to = direction\n",
    "    food_pos = [random.randrange(1, (width//10)) * 10,\n",
    "                random.randrange(1, (height//10)) * 10]\n",
    "    food_spawn = True\n",
    "    score = 0\n",
    "\n",
    "# Main game loop\n",
    "while True:\n",
    "    for event in pygame.event.get():\n",
    "        if event.type == pygame.QUIT:\n",
    "            pygame.quit()\n",
    "            quit()\n",
    "\n",
    "        # Arrow keys for direction change\n",
    "        keys = pygame.key.get_pressed()\n",
    "        for key in keys:\n",
    "            if keys[pygame.K_UP]:\n",
    "                change_to = \"UP\"\n",
    "            if keys[pygame.K_DOWN]:\n",
    "                change_to = \"DOWN\"\n",
    "            if keys[pygame.K_LEFT]:\n",
    "                change_to = \"LEFT\"\n",
    "            if keys[pygame.K_RIGHT]:\n",
    "                change_to = \"RIGHT\"\n",
    "\n",
    "    # Validate direction\n",
    "    if change_to == \"UP\" and direction != \"DOWN\":\n",
    "        direction = \"UP\"\n",
    "    if change_to == \"DOWN\" and direction != \"UP\":\n",
    "        direction = \"DOWN\"\n",
    "    if change_to == \"LEFT\" and direction != \"RIGHT\":\n",
    "        direction = \"LEFT\"\n",
    "    if change_to == \"RIGHT\" and direction != \"LEFT\":\n",
    "        direction = \"RIGHT\"\n",
    "\n",
    "    # Moving the snake\n",
    "    if direction == \"UP\":\n",
    "        snake_pos[1] -= 10\n",
    "    if direction == \"DOWN\":\n",
    "        snake_pos[1] += 10\n",
    "    if direction == \"LEFT\":\n",
    "        snake_pos[0] -= 10\n",
    "    if direction == \"RIGHT\":\n",
    "        snake_pos[0] += 10\n",
    "\n",
    "    # Snake body growing mechanism\n",
    "    snake_body.insert(0, list(snake_pos))\n",
    "    if snake_pos[0] == food_pos[0] and snake_pos[1] == food_pos[1]:\n",
    "        score += 1\n",
    "        food_spawn = False\n",
    "    else:\n",
    "        snake_body.pop()\n",
    "\n",
    "    if not food_spawn:\n",
    "        food_pos = [random.randrange(1, (width//10)) * 10,\n",
    "                    random.randrange(1, (height//10)) * 10]\n",
    "    food_spawn = True\n",
    "\n",
    "    # Drawing snake and food\n",
    "    screen.fill(black)\n",
    "    for pos in snake_body:\n",
    "        pygame.draw.rect(screen, green,\n",
    "                         pygame.Rect(pos[0], pos[1], 10, 10))\n",
    "\n",
    "    pygame.draw.rect(screen, white, pygame.Rect(\n",
    "        food_pos[0], food_pos[1], 10, 10))\n",
    "\n",
    "    # Game Over conditions\n",
    "    if snake_pos[0] < 0 or snake_pos[0] > width-10:\n",
    "        init_game()\n",
    "    if snake_pos[1] < 0 or snake_pos[1] > height-10:\n",
    "        init_game()\n",
    "\n",
    "    # Touching the snake body\n",
    "    for block in snake_body[1:]:\n",
    "        if snake_pos[0] == block[0] and snake_pos[1] == block[1]:\n",
    "            init_game()\n",
    "\n",
    "    pygame.display.update()\n",
    "    clock.tick(10)\n"
   ]
  },
  {
   "cell_type": "code",
   "execution_count": null,
   "id": "819eaede-0b0b-4fd0-908c-ff0258f0419e",
   "metadata": {},
   "outputs": [],
   "source": []
  }
 ],
 "metadata": {
  "kernelspec": {
   "display_name": "Python 3 (ipykernel)",
   "language": "python",
   "name": "python3"
  },
  "language_info": {
   "codemirror_mode": {
    "name": "ipython",
    "version": 3
   },
   "file_extension": ".py",
   "mimetype": "text/x-python",
   "name": "python",
   "nbconvert_exporter": "python",
   "pygments_lexer": "ipython3",
   "version": "3.11.3"
  }
 },
 "nbformat": 4,
 "nbformat_minor": 5
}
