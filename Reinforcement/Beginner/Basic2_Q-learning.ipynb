{
 "cells": [
  {
   "cell_type": "markdown",
   "metadata": {},
   "source": [
    "# Basic 2 - Q-learning with path finding problem\n",
    "In this problem, we will learn:\n",
    "1. How to navigate in a grid\n",
    "2. Appling Q-learning formula to find path\n",
    "\n",
    "The formula for Q-learning in this example we will be\n",
    "`Q = Q + alpha*(reward - gamma * estimate of optimal future value - Q)`\n",
    "\n",
    "Basic 2: given 4x4 grid with one finish line and 3 mines. Our goal is to find the path to finish line. Knowing that reward for finish line is 1 and mine is -10 each.\n",
    "To navigate on the grid, we will have four directions in clock-wise order: up, right, down, left mapped with (0, -1), (1, 0), (0, 1), (-1, 0) respectively. \n",
    "\n"
   ]
  },
  {
   "cell_type": "code",
   "execution_count": 9,
   "metadata": {},
   "outputs": [],
   "source": [
    "import numpy as np\n",
    "\n",
    "# Grid size\n",
    "N = 4\n",
    "\n",
    "# Finish line and mines\n",
    "finish_line = (3, 2)\n",
    "mines = [(1, 1), (2, 3), (3,1)]\n",
    "\n",
    "# Rewards\n",
    "rewards = np.zeros((N, N))\n",
    "rewards[finish_line] = 1\n",
    "for mine in mines:\n",
    "    rewards[mine] = -10\n",
    "\n",
    "# Hyperparameters\n",
    "ALPHA = 0.1\n",
    "GAMMA = 0.9\n",
    "EPSILON = 0.1\n",
    "EPISODES = 1000\n",
    "\n",
    "# Initialize Q-table\n",
    "Q = np.random.uniform(low=-1, high=1, size=(N, N, 4))\n",
    " # 4 actions: up, right, down, left\n"
   ]
  },
  {
   "cell_type": "code",
   "execution_count": 22,
   "metadata": {},
   "outputs": [
    {
     "name": "stdout",
     "output_type": "stream",
     "text": [
      "Best path: [(0, 0), (1, 0), (2, 0), (2, 1), (2, 2), (3, 2)]\n"
     ]
    }
   ],
   "source": [
    "# Action mappings\n",
    "actions = [(0, -1), (1, 0), (0, 1), (-1, 0)] # up, right, down, left\n",
    "\n",
    "# Q-learning\n",
    "for episode in range(EPISODES):\n",
    "    state = (0, 0) # Start state\n",
    "    done = False\n",
    "\n",
    "    while not done:\n",
    "        x, y = state\n",
    "        # Choose action (epsilon-greedy)\n",
    "        if np.random.rand() < EPSILON:\n",
    "            action = np.random.randint(4)\n",
    "        else:\n",
    "            action = np.argmax(Q[x, y]) # get index max\n",
    "\n",
    "        # Execute action\n",
    "        x_new, y_new = x + actions[action][0], y + actions[action][1]\n",
    "        # Stay within grid bounds\n",
    "        x_new, y_new = max(0, min(x_new, N-1)), max(0, min(y_new, N-1))\n",
    "\n",
    "        new_state = (x_new, y_new)\n",
    "\n",
    "        # Receive reward\n",
    "        reward = rewards[new_state] # -10 for mines, 1 for finish line and 0 for the rest\n",
    "\n",
    "        # Update Q-value\n",
    "        # np.max(Q[x_new, y_new] is estimated optimal future value\n",
    "        Q[x, y, action] = Q[x, y, action] + ALPHA * (reward + GAMMA * np.max(Q[x_new, y_new]) - Q[x, y, action])\n",
    "\n",
    "        state = new_state\n",
    "        if state == finish_line or state in mines:\n",
    "            done = True\n",
    "\n",
    "# Find the best path\n",
    "state = (0, 0)\n",
    "path = [state]\n",
    "def is_valid(x, y, N):\n",
    "    \"\"\"Check if the (x, y) coordinates are within the grid.\"\"\"\n",
    "    return 0 <= x < N and 0 <= y < N\n",
    "\n",
    "while state != finish_line and state not in mines:\n",
    "    x, y = state\n",
    "    action = np.argmax(Q[x, y])\n",
    "    new_x, new_y = x + actions[action][0], y + actions[action][1]\n",
    "    # Check if the new state is valid\n",
    "    if is_valid(new_x, new_y, N):\n",
    "        state = (new_x, new_y)\n",
    "        path.append(state)\n",
    "    else:\n",
    "        break\n",
    "\n",
    "print(\"Best path:\", path)\n"
   ]
  },
  {
   "cell_type": "code",
   "execution_count": 26,
   "metadata": {},
   "outputs": [
    {
     "data": {
      "image/png": "[encoded data removed]",
      "text/plain": [
       "<Figure size 600x600 with 1 Axes>"
      ]
     },
     "metadata": {},
     "output_type": "display_data"
    }
   ],
   "source": [
    "import matplotlib.pyplot as plt\n",
    "\n",
    "# Extracting the x and y coordinates of the path\n",
    "x_coords = [x[0] for x in path]\n",
    "y_coords = [x[1] for x in path]\n",
    "\n",
    "# Setup figure and axis\n",
    "fig, ax = plt.subplots(figsize=(6,6))\n",
    "\n",
    "# Set up a basic grid\n",
    "ax.matshow([[0]*4 for _ in range(4)], cmap=\"Blues\", vmin=-1, vmax=1)\n",
    "\n",
    "# Plotting the path\n",
    "ax.plot(y_coords, x_coords, color=\"red\", marker=\"o\")  # We use y_coords for x and x_coords for y due to the row-col nature of plotting\n",
    "\n",
    "# Plotting the mines and finish line\n",
    "for mine in mines:\n",
    "    ax.text(mine[1], mine[0], 'X', ha='center', va='center', color='black', fontsize=30, weight='bold')\n",
    "\n",
    "ax.text(finish_line[1], finish_line[0], 'F', ha='center', va='center', color='green', fontsize=40, weight='bold')\n",
    "\n",
    "# Setting axis limits\n",
    "ax.set_xlim(-0.5, 3.5)\n",
    "ax.set_ylim(3.5, -0.5)\n",
    "\n",
    "# Displaying the plot\n",
    "plt.show()\n"
   ]
  }
 ],
 "metadata": {
  "kernelspec": {
   "display_name": "Python 3",
   "language": "python",
   "name": "python3"
  },
  "language_info": {
   "codemirror_mode": {
    "name": "ipython",
    "version": 3
   },
   "file_extension": ".py",
   "mimetype": "text/x-python",
   "name": "python",
   "nbconvert_exporter": "python",
   "pygments_lexer": "ipython3",
   "version": "3.11.3"
  },
  "orig_nbformat": 4
 },
 "nbformat": 4,
 "nbformat_minor": 2
}
